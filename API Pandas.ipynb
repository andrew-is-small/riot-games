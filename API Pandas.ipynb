{
 "cells": [
  {
   "cell_type": "markdown",
   "id": "039d3717",
   "metadata": {},
   "source": [
    "# Gonna turn riot APIs into pandas dataframes to do some data stuffs"
   ]
  },
  {
   "cell_type": "code",
   "execution_count": 1,
   "id": "dd057605",
   "metadata": {},
   "outputs": [],
   "source": [
    "import requests\n",
    "import json\n",
    "import pandas as pd\n",
    "from datetime import datetime\n",
    "import matplotlib\n",
    "import matplotlib.pyplot as plt\n",
    "import numpy as np\n",
    "from matplotlib.pyplot import figure"
   ]
  },
  {
   "cell_type": "markdown",
   "id": "e188127d",
   "metadata": {},
   "source": [
    "# Stuff to enter in"
   ]
  },
  {
   "cell_type": "code",
   "execution_count": 2,
   "id": "48a31888",
   "metadata": {},
   "outputs": [],
   "source": [
    "sumName = 'PlatypusOfCanada'\n",
    "apiKey = 'RGAPI-cd1f5d94-07bb-485e-95b3-b300755d668a'"
   ]
  },
  {
   "cell_type": "code",
   "execution_count": 5,
   "id": "945a3158",
   "metadata": {},
   "outputs": [
    {
     "data": {
      "text/plain": [
       "{'id': 'lWvclwcJ92XHvnfk9sv7LUqXFoiJtJovpqEysbc8NMBcEbU',\n",
       " 'accountId': 'gzdh7feBTbG2fYN6SnZ7YBMw4Tn4FFe9kdbJo5StRRSvM1w',\n",
       " 'puuid': 'NJOmx8gmVYUmxcR0hSVNpkH3Fww__kmoNQ2McFO6gBcjIirgJt1bNB6-K2sxYTVeuvkeJ3huNdEaOg',\n",
       " 'name': 'PlatypusOfCanada',\n",
       " 'profileIconId': 744,\n",
       " 'revisionDate': 1622506666594,\n",
       " 'summonerLevel': 357}"
      ]
     },
     "execution_count": 5,
     "metadata": {},
     "output_type": "execute_result"
    }
   ],
   "source": [
    "sumInfo = requests.get('https://na1.api.riotgames.com/lol/summoner/v4/summoners/by-name/' + sumName + '?api_key=' + apiKey)\n",
    "sumInfoDict = sumInfo.json()\n",
    "sumInfoDict"
   ]
  },
  {
   "cell_type": "code",
   "execution_count": 6,
   "id": "f0aaba0d",
   "metadata": {},
   "outputs": [],
   "source": [
    "sumId = sumInfoDict['id']\n",
    "puuId = sumInfoDict['puuid']"
   ]
  },
  {
   "cell_type": "markdown",
   "id": "c32e0c5a",
   "metadata": {},
   "source": [
    "# Current Game"
   ]
  },
  {
   "cell_type": "code",
   "execution_count": 7,
   "id": "d118af5b",
   "metadata": {},
   "outputs": [],
   "source": [
    "curGame = requests.get('https://na1.api.riotgames.com/lol/spectator/v4/active-games/by-summoner/' + puuId +'?api_key=' + apiKey)"
   ]
  },
  {
   "cell_type": "code",
   "execution_count": 8,
   "id": "f72d75b1",
   "metadata": {},
   "outputs": [
    {
     "name": "stdout",
     "output_type": "stream",
     "text": [
      "Not in a game\n"
     ]
    }
   ],
   "source": [
    "if not curGame.ok:\n",
    "    print('Not in a game')"
   ]
  }
 ],
 "metadata": {
  "kernelspec": {
   "display_name": "Python 3",
   "language": "python",
   "name": "python3"
  },
  "language_info": {
   "codemirror_mode": {
    "name": "ipython",
    "version": 3
   },
   "file_extension": ".py",
   "mimetype": "text/x-python",
   "name": "python",
   "nbconvert_exporter": "python",
   "pygments_lexer": "ipython3",
   "version": "3.9.5"
  }
 },
 "nbformat": 4,
 "nbformat_minor": 5
}
